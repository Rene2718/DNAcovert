{
 "cells": [
  {
   "cell_type": "code",
   "execution_count": 44,
   "id": "344e3cf2",
   "metadata": {},
   "outputs": [
    {
     "name": "stdout",
     "output_type": "stream",
     "text": [
      "DONE, lalalala, Nate is an old dog\n"
     ]
    }
   ],
   "source": [
    "import pandas as pd\n",
    "#open the original DNA sequence .txt file\n",
    "inputfile=\"DNA_sequence_original.txt\" #make sure to put your file in the right directory\n",
    "\n",
    "def read_seq(inputfile):\n",
    "    with open(inputfile,\"r\") as f:\n",
    "        seq=f.read()\n",
    "        slist = (str(seq).split(\"\\n\"))\n",
    "    return slist\n",
    "\n",
    "def reverse_complement(seq) :\n",
    "    complement = {'A': 'T', 'C': 'G', 'G': 'C', 'T': 'A'}\n",
    "    return ''.join([complement [base] for base in seq[::-1]])\n",
    "\n",
    "def translate(seq):\n",
    "    \"\"\"\n",
    "    Translate a string containing a nucleotide sequence into a string containing the corresponding sequence of amino acids .\n",
    "    Nucleotides are translated in triplets using the table dictionary; each amino acid 4 is encoded with a string of length 1.\n",
    "    \"\"\"\n",
    "    table = {\n",
    "        'ATA':'I', 'ATC':'I', 'ATT':'I', 'ATG':'M',\n",
    "        'ACA':'T', 'ACC':'T', 'ACG':'T', 'ACT':'T',\n",
    "        'AAC':'N', 'AAT':'N', 'AAA':'K', 'AAG':'K',\n",
    "        'AGC':'S', 'AGT':'S', 'AGA':'R', 'AGG':'R',                  #this table dictionary is pre-created\n",
    "        'CTA':'L', 'CTC':'L', 'CTG':'L', 'CTT':'L',\n",
    "        'CCA':'P', 'CCC':'P', 'CCG':'P', 'CCT':'P',\n",
    "        'CAC':'H', 'CAT':'H', 'CAA':'Q', 'CAG':'Q',\n",
    "        'CGA':'R', 'CGC':'R', 'CGG':'R', 'CGT':'R',\n",
    "        'GTA':'V', 'GTC':'V', 'GTG':'V', 'GTT':'V',\n",
    "        'GCA':'A', 'GCC':'A', 'GCG':'A', 'GCT':'A',\n",
    "        'GAC':'D', 'GAT':'D', 'GAA':'E', 'GAG':'E',\n",
    "        'GGA':'G', 'GGC':'G', 'GGG':'G', 'GGT':'G',\n",
    "        'TCA':'S', 'TCC':'S', 'TCG':'S', 'TCT':'S',\n",
    "        'TTC':'F', 'TTT':'F', 'TTA':'L', 'TTG':'L',\n",
    "        'TAC':'Y', 'TAT':'Y', 'TAA':'_', 'TAG':'_',\n",
    "        'TGC':'C', 'TGT':'C', 'TGA':'_', 'TGG':'W',\n",
    "    }\n",
    "    protein=\"\"\n",
    "    if len(seq)%3==0:\n",
    "        for i in range(0,len(seq),3):\n",
    "            codon=seq[i:i+3]\n",
    "            protein+=table[codon]\n",
    "    return protein\n",
    "\n",
    "\n",
    "dna = read_seq(inputfile)\n",
    "lst = []\n",
    "for i in dna:\n",
    "    lst.append(translate(reverse_complement(i))) \n",
    "\n",
    "df = pd.DataFrame(lst)\n",
    "df.to_csv('protein.csv')\n",
    "\n",
    "print('DONE, lalalala, Nate is an old dog')"
   ]
  }
 ],
 "metadata": {
  "kernelspec": {
   "display_name": "Python 3 (ipykernel)",
   "language": "python",
   "name": "python3"
  },
  "language_info": {
   "codemirror_mode": {
    "name": "ipython",
    "version": 3
   },
   "file_extension": ".py",
   "mimetype": "text/x-python",
   "name": "python",
   "nbconvert_exporter": "python",
   "pygments_lexer": "ipython3",
   "version": "3.8.12"
  }
 },
 "nbformat": 4,
 "nbformat_minor": 5
}
